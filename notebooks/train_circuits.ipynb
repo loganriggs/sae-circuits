{
 "cells": [
  {
   "cell_type": "code",
   "execution_count": 15,
   "metadata": {},
   "outputs": [
    {
     "name": "stderr",
     "output_type": "stream",
     "text": [
      "Special tokens have been added in the vocabulary, make sure the associated word embeddings are fine-tuned or trained.\n"
     ]
    },
    {
     "name": "stdout",
     "output_type": "stream",
     "text": [
      "Total num of Tokens: 12.8M\n",
      "Downloading Elriggs/openwebtext-100k\n"
     ]
    },
    {
     "data": {
      "application/vnd.jupyter.widget-view+json": {
       "model_id": "bfcfa77ba546461fba904019148b28bb",
       "version_major": 2,
       "version_minor": 0
      },
      "text/plain": [
       "Downloading readme:   0%|          | 0.00/366 [00:00<?, ?B/s]"
      ]
     },
     "metadata": {},
     "output_type": "display_data"
    },
    {
     "data": {
      "application/vnd.jupyter.widget-view+json": {
       "model_id": "1e7de0346cb84604945855fd3b487e70",
       "version_major": 2,
       "version_minor": 0
      },
      "text/plain": [
       "Downloading data:   0%|          | 0.00/303M [00:00<?, ?B/s]"
      ]
     },
     "metadata": {},
     "output_type": "display_data"
    },
    {
     "data": {
      "application/vnd.jupyter.widget-view+json": {
       "model_id": "6300b1586b94423292e1012f71242e75",
       "version_major": 2,
       "version_minor": 0
      },
      "text/plain": [
       "Generating train split:   0%|          | 0/100000 [00:00<?, ? examples/s]"
      ]
     },
     "metadata": {},
     "output_type": "display_data"
    },
    {
     "data": {
      "application/vnd.jupyter.widget-view+json": {
       "model_id": "ba59f0d8f6b34debb5a9249c8ddbf370",
       "version_major": 2,
       "version_minor": 0
      },
      "text/plain": [
       "Map:   0%|          | 0/50000 [00:00<?, ? examples/s]"
      ]
     },
     "metadata": {},
     "output_type": "display_data"
    },
    {
     "data": {
      "application/vnd.jupyter.widget-view+json": {
       "model_id": "99afc297e64540d387c55975d526dad8",
       "version_major": 2,
       "version_minor": 0
      },
      "text/plain": [
       "Filter:   0%|          | 0/50000 [00:00<?, ? examples/s]"
      ]
     },
     "metadata": {},
     "output_type": "display_data"
    },
    {
     "data": {
      "application/vnd.jupyter.widget-view+json": {
       "model_id": "72adf5b9236c4222a83283012c5b8c00",
       "version_major": 2,
       "version_minor": 0
      },
      "text/plain": [
       "Map:   0%|          | 0/45822 [00:00<?, ? examples/s]"
      ]
     },
     "metadata": {},
     "output_type": "display_data"
    }
   ],
   "source": [
    "# Jannik's models are not SAE Lens, so use Baukit\n",
    "from transformers import AutoTokenizer, AutoModelForCausalLM\n",
    "import torch\n",
    "device = torch.device(\"cuda\" if torch.cuda.is_available() else \"cpu\")\n",
    "model_name = \"EleutherAI/pythia-70m\"\n",
    "model = AutoModelForCausalLM.from_pretrained(model_name).to(device)\n",
    "tokenizer = AutoTokenizer.from_pretrained(model_name)\n",
    "\n",
    "import os \n",
    "import sys\n",
    "current_dir = \"/root/GroupedSAEs/notebooks/circuits.ipynb\"\n",
    "sys.path.append(os.path.dirname(os.path.dirname(current_dir)))\n",
    "from huggingface_hub import hf_hub_download\n",
    "from dictionary import GatedAutoEncoder\n",
    "\n",
    "# Possible layers: 2,8,12,14,16,20\n",
    "layer = 2\n",
    "activation_names = [f\"gpt_neox.layers.{layer}\", f\"gpt_neox.layers.{layer}.post_attention_layernorm\"]\n",
    "# activation_name = f\"transformer.h.{layer}\"\n",
    "\n",
    "model_id = \"jbrinkma/pythia-70m-saes\"\n",
    "normal_sae_name = f\"Pythia-70M-L{layer}-Residual.pt\"\n",
    "skip_sae_name = f\"Pythia-70M-L{layer}-SkipMLP.pt\"\n",
    "normal_ae_download_location = hf_hub_download(repo_id=model_id, filename=normal_sae_name)\n",
    "skip_ae_download_location = hf_hub_download(repo_id=model_id, filename=skip_sae_name)\n",
    "sae_res = GatedAutoEncoder.from_pretrained(normal_ae_download_location).to(device)\n",
    "skip_sae = GatedAutoEncoder.from_pretrained(skip_ae_download_location).to(device)\n",
    "\n",
    "from datasets import load_dataset\n",
    "def download_dataset(dataset_name, tokenizer, max_length=256, num_datapoints=None):\n",
    "    if(num_datapoints):\n",
    "        split_text = f\"train[:{num_datapoints}]\"\n",
    "    else:\n",
    "        split_text = \"train\"\n",
    "    dataset = load_dataset(dataset_name, split=split_text).map(\n",
    "        lambda x: tokenizer(x['text']),\n",
    "        batched=True,\n",
    "    ).filter(\n",
    "        lambda x: len(x['input_ids']) > max_length\n",
    "    ).map(\n",
    "        lambda x: {'input_ids': x['input_ids'][:max_length]}\n",
    "    )\n",
    "    return dataset\n",
    "\n",
    "dataset_name = \"Elriggs/openwebtext-100k\"\n",
    "# dataset_name = \"stas/openwebtext-10k\"\n",
    "max_seq_length = 256\n",
    "num_datapoints = 50000\n",
    "total_tokens = max_seq_length * num_datapoints\n",
    "print(f\"Total num of Tokens: {total_tokens/1e6}M\")\n",
    "print(f\"Downloading {dataset_name}\")\n",
    "dataset = download_dataset(dataset_name, tokenizer=tokenizer, max_length=max_seq_length, num_datapoints=num_datapoints)"
   ]
  },
  {
   "cell_type": "code",
   "execution_count": 20,
   "metadata": {},
   "outputs": [
    {
     "data": {
      "text/plain": [
       "two_linear(\n",
       "  (linear_first): Linear(in_features=8192, out_features=512, bias=False)\n",
       "  (linear_second): Linear(in_features=512, out_features=8192, bias=False)\n",
       ")"
      ]
     },
     "execution_count": 20,
     "metadata": {},
     "output_type": "execute_result"
    }
   ],
   "source": [
    "from torch import nn\n",
    "class two_linear(nn.Module):\n",
    "    def __init__(self, input_size, output_size, output_bias=False, relu=False):\n",
    "        super().__init__()\n",
    "        self.linear_first = nn.Linear(input_size, output_size, bias=False)\n",
    "        self.linear_second = nn.Linear(output_size, input_size, bias=output_bias)\n",
    "        # initialize the weights of the linear layers\n",
    "        nn.init.xavier_uniform_(self.linear_first.weight)\n",
    "        nn.init.xavier_uniform_(self.linear_second.weight)\n",
    "        self.relu = relu\n",
    "    def forward(self, x):\n",
    "        res_x = self.linear_first(x)\n",
    "        output= self.linear_second(res_x)\n",
    "        if self.relu:\n",
    "            return torch.relu(output) \n",
    "        return output\n",
    "    \n",
    "    def get_weights(self):\n",
    "        return self.linear_first.weight @ self.linear_second.weight\n",
    "\n",
    "    def get_bias(self):\n",
    "        return self.linear_second.bias\n",
    "    \n",
    "output_bias = False\n",
    "res_size, feature_size = skip_sae.decoder.weight.shape\n",
    "linear_layers = two_linear(feature_size, res_size, output_bias=output_bias, relu=False)\n",
    "opt = torch.optim.Adam(linear_layers.parameters(), lr=1e-3)\n",
    "\n",
    "initialize_to_SAE = False\n",
    "res_dec = skip_sae.decoder.weight.data\n",
    "# Initialize the weights of the linear layers to SAE_encoder & decoder weights\n",
    "# I'd like to fold in layer norm\n",
    "if initialize_to_SAE:\n",
    "    # I'd like to fold in layer norm\n",
    "    ln_mlp = model.gpt_neox.layers[layer].post_attention_layernorm\n",
    "    # 1. center the weights that write into res\n",
    "    # centered_decoder = res_dec - res_dec.mean(dim=1, keepdim=True)\n",
    "    centered_decoder = res_dec\n",
    "    # 2. Add in layer norm weight to the read in weight\n",
    "    ln_w = ln_mlp.weight.data\n",
    "    ln_b = ln_mlp.bias.data\n",
    "\n",
    "    # Get weights and biases of the next linear layer\n",
    "    W = skip_sae.encoder.weight.data.T  # The next linear layer weights\n",
    "    # B = skip_sae.mag_bias.data  # The next linear layer biases\n",
    "    B = skip_sae.gate_bias.data  # The next linear layer biases\n",
    "\n",
    "    # Calculate W_eff and B_eff\n",
    "    W_eff = torch.diag(ln_w) @ W\n",
    "    B_eff = B + ln_b @ W\n",
    "\n",
    "    # Centering the reading weights\n",
    "    # W_eff -= W_eff.mean(dim=0, keepdim=True)\n",
    "\n",
    "    # assign to two linear\n",
    "    linear_layers.linear_first.weight.data = centered_decoder\n",
    "    linear_layers.linear_second.weight.data = W_eff.T\n",
    "    if output_bias:\n",
    "        linear_layers.linear_second.bias.data = B_eff\n",
    "# set to gpu\n",
    "linear_layers.to(device)"
   ]
  },
  {
   "cell_type": "code",
   "execution_count": 21,
   "metadata": {},
   "outputs": [
    {
     "data": {
      "text/plain": [
       "torch.Size([512, 8192])"
      ]
     },
     "execution_count": 21,
     "metadata": {},
     "output_type": "execute_result"
    }
   ],
   "source": [
    "linear_layers.linear_second.weight.shape\n",
    "linear_layers.linear_first.weight.shape"
   ]
  },
  {
   "cell_type": "code",
   "execution_count": 22,
   "metadata": {},
   "outputs": [],
   "source": [
    "# set them to false\n",
    "for param in model.parameters():\n",
    "    param.requires_grad = False\n",
    "# Same for saes\n",
    "for param in sae_res.parameters():\n",
    "    param.requires_grad = False\n",
    "for param in skip_sae.parameters():\n",
    "    param.requires_grad = False"
   ]
  },
  {
   "cell_type": "code",
   "execution_count": 23,
   "metadata": {},
   "outputs": [
    {
     "name": "stderr",
     "output_type": "stream",
     "text": [
      "  0%|          | 1/358 [00:01<10:21,  1.74s/it]"
     ]
    },
    {
     "name": "stdout",
     "output_type": "stream",
     "text": [
      "Batch 0 | resid_mse: 0.639 skip_mse: 0.017\n"
     ]
    },
    {
     "name": "stderr",
     "output_type": "stream",
     "text": [
      "  6%|▌         | 21/358 [00:29<07:40,  1.37s/it]"
     ]
    },
    {
     "name": "stdout",
     "output_type": "stream",
     "text": [
      "Batch 20 | resid_mse: 0.453 skip_mse: 0.012\n"
     ]
    },
    {
     "name": "stderr",
     "output_type": "stream",
     "text": [
      " 11%|█▏        | 41/358 [00:57<07:24,  1.40s/it]"
     ]
    },
    {
     "name": "stdout",
     "output_type": "stream",
     "text": [
      "Batch 40 | resid_mse: 0.381 skip_mse: 0.009\n"
     ]
    },
    {
     "name": "stderr",
     "output_type": "stream",
     "text": [
      " 17%|█▋        | 61/358 [01:30<08:07,  1.64s/it]"
     ]
    },
    {
     "name": "stdout",
     "output_type": "stream",
     "text": [
      "Batch 60 | resid_mse: 0.332 skip_mse: 0.007\n"
     ]
    },
    {
     "name": "stderr",
     "output_type": "stream",
     "text": [
      " 23%|██▎       | 81/358 [02:00<06:28,  1.40s/it]"
     ]
    },
    {
     "name": "stdout",
     "output_type": "stream",
     "text": [
      "Batch 80 | resid_mse: 0.296 skip_mse: 0.005\n"
     ]
    },
    {
     "name": "stderr",
     "output_type": "stream",
     "text": [
      " 28%|██▊       | 101/358 [02:27<05:49,  1.36s/it]"
     ]
    },
    {
     "name": "stdout",
     "output_type": "stream",
     "text": [
      "Batch 100 | resid_mse: 0.265 skip_mse: 0.004\n"
     ]
    },
    {
     "name": "stderr",
     "output_type": "stream",
     "text": [
      " 34%|███▍      | 121/358 [02:55<05:22,  1.36s/it]"
     ]
    },
    {
     "name": "stdout",
     "output_type": "stream",
     "text": [
      "Batch 120 | resid_mse: 0.238 skip_mse: 0.003\n"
     ]
    },
    {
     "name": "stderr",
     "output_type": "stream",
     "text": [
      " 39%|███▉      | 141/358 [03:23<04:56,  1.37s/it]"
     ]
    },
    {
     "name": "stdout",
     "output_type": "stream",
     "text": [
      "Batch 140 | resid_mse: 0.221 skip_mse: 0.002\n"
     ]
    },
    {
     "name": "stderr",
     "output_type": "stream",
     "text": [
      " 45%|████▍     | 161/358 [03:56<06:01,  1.84s/it]"
     ]
    },
    {
     "name": "stdout",
     "output_type": "stream",
     "text": [
      "Batch 160 | resid_mse: 0.203 skip_mse: 0.002\n"
     ]
    },
    {
     "name": "stderr",
     "output_type": "stream",
     "text": [
      " 51%|█████     | 181/358 [04:23<04:05,  1.39s/it]"
     ]
    },
    {
     "name": "stdout",
     "output_type": "stream",
     "text": [
      "Batch 180 | resid_mse: 0.182 skip_mse: 0.001\n"
     ]
    },
    {
     "name": "stderr",
     "output_type": "stream",
     "text": [
      " 56%|█████▌    | 201/358 [04:52<04:27,  1.70s/it]"
     ]
    },
    {
     "name": "stdout",
     "output_type": "stream",
     "text": [
      "Batch 200 | resid_mse: 0.170 skip_mse: 0.001\n"
     ]
    },
    {
     "name": "stderr",
     "output_type": "stream",
     "text": [
      " 62%|██████▏   | 221/358 [05:21<03:18,  1.45s/it]"
     ]
    },
    {
     "name": "stdout",
     "output_type": "stream",
     "text": [
      "Batch 220 | resid_mse: 0.159 skip_mse: 0.001\n"
     ]
    },
    {
     "name": "stderr",
     "output_type": "stream",
     "text": [
      " 67%|██████▋   | 241/358 [05:54<02:48,  1.44s/it]"
     ]
    },
    {
     "name": "stdout",
     "output_type": "stream",
     "text": [
      "Batch 240 | resid_mse: 0.146 skip_mse: 0.001\n"
     ]
    },
    {
     "name": "stderr",
     "output_type": "stream",
     "text": [
      " 73%|███████▎  | 261/358 [06:24<02:21,  1.46s/it]"
     ]
    },
    {
     "name": "stdout",
     "output_type": "stream",
     "text": [
      "Batch 260 | resid_mse: 0.135 skip_mse: 0.001\n"
     ]
    },
    {
     "name": "stderr",
     "output_type": "stream",
     "text": [
      " 78%|███████▊  | 281/358 [06:50<01:42,  1.34s/it]"
     ]
    },
    {
     "name": "stdout",
     "output_type": "stream",
     "text": [
      "Batch 280 | resid_mse: 0.125 skip_mse: 0.001\n"
     ]
    },
    {
     "name": "stderr",
     "output_type": "stream",
     "text": [
      " 84%|████████▍ | 301/358 [07:19<01:20,  1.42s/it]"
     ]
    },
    {
     "name": "stdout",
     "output_type": "stream",
     "text": [
      "Batch 300 | resid_mse: 0.113 skip_mse: 0.001\n"
     ]
    },
    {
     "name": "stderr",
     "output_type": "stream",
     "text": [
      " 90%|████████▉ | 321/358 [07:48<00:51,  1.40s/it]"
     ]
    },
    {
     "name": "stdout",
     "output_type": "stream",
     "text": [
      "Batch 320 | resid_mse: 0.109 skip_mse: 0.001\n"
     ]
    },
    {
     "name": "stderr",
     "output_type": "stream",
     "text": [
      " 95%|█████████▌| 341/358 [08:15<00:23,  1.35s/it]"
     ]
    },
    {
     "name": "stdout",
     "output_type": "stream",
     "text": [
      "Batch 340 | resid_mse: 0.099 skip_mse: 0.001\n"
     ]
    },
    {
     "name": "stderr",
     "output_type": "stream",
     "text": [
      "100%|██████████| 358/358 [08:38<00:00,  1.45s/it]\n"
     ]
    }
   ],
   "source": [
    "from torch.utils.data import DataLoader\n",
    "from einops import rearrange\n",
    "from tqdm import tqdm\n",
    "from baukit import TraceDict\n",
    "# set gradient off for model & saes\n",
    "batch_size = 128\n",
    "num_batches_check = 20\n",
    "# def get_dictionary_activations(model, dataset, cache_name, max_seq_length, autoencoder, batch_size=32):\n",
    "num_features, d_model  = sae_res.encoder.weight.data.shape\n",
    "datapoints = dataset.num_rows\n",
    "\n",
    "residual_and_skip_correlation = torch.zeros((num_features, num_features), dtype=torch.int32)\n",
    "residual_correlation = torch.zeros((num_features, num_features), dtype=torch.int32)\n",
    "skip_correlation = torch.zeros((num_features, num_features), dtype=torch.int32)\n",
    "\n",
    "all_resid_mse = []\n",
    "all_resid_var_explained = []\n",
    "all_feature_mse = []\n",
    "all_feature_var_explained = []\n",
    "with dataset.formatted_as(\"pt\"):\n",
    "    dl = DataLoader(dataset[\"input_ids\"], batch_size=batch_size)\n",
    "    for batch_ind, batch in enumerate(tqdm(dl)):\n",
    "        batch = batch.to(model.device)\n",
    "        # Grab intermediate activations\n",
    "        with TraceDict(model, activation_names) as ret:\n",
    "            _ = model(batch).logits\n",
    "        # Get each feature's activations\n",
    "\n",
    "        for sae_ind, sae in enumerate([sae_res, skip_sae]):\n",
    "            activations = ret[activation_names[sae_ind]].output\n",
    "            # check if instance tuple\n",
    "            if(isinstance(activations, tuple)):\n",
    "                activations = activations[0]\n",
    "                \n",
    "            activations = rearrange(activations, \"b s n -> (b s) n\" )\n",
    "\n",
    "            feature_acts = sae.encode(activations)\n",
    "            if sae_ind==0:\n",
    "                input_features = feature_acts\n",
    "\n",
    "                # Calculate the MSE loss between the original activation & it's encoded version\n",
    "                resid_mse = torch.mean((activations - linear_layers.linear_first(feature_acts))**2)\n",
    "                first_feature_mask = (feature_acts !=0).float()\n",
    "                residual_correlation += torch.mm(first_feature_mask.T, first_feature_mask).int().cpu()\n",
    "            else:\n",
    "                skip_features = feature_acts\n",
    "                second_feature_mask = (feature_acts !=0).float()\n",
    "                skip_correlation += torch.mm(second_feature_mask.T, second_feature_mask).int().cpu()\n",
    "                \n",
    "                # Calculate the correlation between the residual and skip activations\n",
    "                residual_and_skip_correlation += torch.mm(first_feature_mask.T, second_feature_mask).int().cpu()\n",
    "\n",
    "                # Calculate feature approximation\n",
    "                skip_features_hat = linear_layers(input_features)\n",
    "                \n",
    "                # Check the MSE between the skip features & skip-features-w/-residual\n",
    "                skip_feature_mse = torch.mean((skip_features - skip_features_hat)**2)\n",
    "\n",
    "                loss = skip_feature_mse + resid_mse\n",
    "                opt.zero_grad()\n",
    "                loss.backward()\n",
    "                opt.step()\n",
    "                \n",
    "                if batch_ind % num_batches_check == 0:\n",
    "                    print(f\"Batch {batch_ind} | resid_mse: {resid_mse:.3f} skip_mse: {skip_feature_mse:.3f}\")\n",
    "                    all_resid_mse.append(resid_mse.item())\n",
    "                    all_feature_mse.append(skip_feature_mse.item())\n",
    "                    feature_act_var = torch.var(skip_features)\n",
    "                    skip_feature_var_explained = 1 - skip_feature_mse / feature_act_var\n",
    "                    all_feature_var_explained.append(skip_feature_var_explained)\n",
    "                # feature_act_var = torch.var(skip_features)\n",
    "                # skip_feature_var_explained = 1 - skip_feature_mse / feature_act_var\n",
    "\n",
    "                # feature_mse[batch_ind*batch_size*max_seq_length:(batch_ind+1)*batch_size*max_seq_length] = skip_feature_mse.cpu()\n",
    "                # feature_var_explained[batch_ind*batch_size*max_seq_length:(batch_ind+1)*batch_size*max_seq_length] = skip_feature_var_explained.cpu()"
   ]
  },
  {
   "cell_type": "code",
   "execution_count": 25,
   "metadata": {},
   "outputs": [
    {
     "data": {
      "image/png": "[encoded data removed]",
      "text/plain": [
       "<Figure size 640x480 with 1 Axes>"
      ]
     },
     "metadata": {},
     "output_type": "display_data"
    }
   ],
   "source": [
    "# plot all_resid_mse & all_feature_mse\n",
    "import matplotlib.pyplot as plt\n",
    "plt.plot(all_resid_mse, label=\"Residual MSE\")\n",
    "plt.plot(all_feature_mse, label=\"Feature MSE\")\n",
    "plt.legend()\n",
    "plt.xlabel(\"Batch\")\n",
    "plt.ylabel(\"MSE\")\n",
    "plt.yscale(\"log\")\n",
    "plt.show()"
   ]
  },
  {
   "cell_type": "code",
   "execution_count": 31,
   "metadata": {},
   "outputs": [
    {
     "data": {
      "image/png": "[encoded data removed]",
      "text/plain": [
       "<Figure size 640x480 with 1 Axes>"
      ]
     },
     "metadata": {},
     "output_type": "display_data"
    }
   ],
   "source": [
    "# plot all_resid_mse & all_feature_mse\n",
    "import matplotlib.pyplot as plt\n",
    "plt.plot(all_resid_mse.numpy(), label=\"Residual MSE\")\n",
    "plt.plot(all_feature_mse.numpy(), label=\"Feature MSE\")\n",
    "plt.legend()\n",
    "plt.xlabel(\"Batch\")\n",
    "plt.ylabel(\"MSE\")\n",
    "plt.yscale(\"log\")\n",
    "plt.show()"
   ]
  },
  {
   "cell_type": "code",
   "execution_count": 68,
   "metadata": {},
   "outputs": [
    {
     "data": {
      "image/png": "[encoded data removed]",
      "text/plain": [
       "<Figure size 640x480 with 1 Axes>"
      ]
     },
     "metadata": {},
     "output_type": "display_data"
    }
   ],
   "source": [
    "# Get combined weights\n",
    "comb_weight = linear_layers.get_weights()\n",
    "l1 = linear_layers.linear_first.weight\n",
    "l2 = linear_layers.linear_second.weight\n",
    "cos_sim = (l1 / l1.norm(dim=0, keepdim=True)).T @ (l2 / l2.norm(dim=1, keepdim=True)).T\n",
    "plt.hist(cos_sim.detach().flatten().cpu().numpy(), bins=100, label=\"Trained\", alpha=0.5)\n",
    "l1 = sae_res.decoder.weight.data\n",
    "l2 = skip_sae.encoder.weight.data\n",
    "cos_sim = (l1 / l1.norm(dim=0, keepdim=True)).T @ (l2 / l2.norm(dim=1, keepdim=True)).T\n",
    "plt.hist(cos_sim.detach().flatten().cpu().numpy(), bins=100, label=\"SAE\", alpha=0.5)\n",
    "plt.legend()\n",
    "plt.title(\"Cosine Similarity of Weights between Residual & Skip\")\n",
    "plt.xlabel(\"Cosine Similarity\")\n",
    "plt.ylabel(\"Count\")\n",
    "plt.yscale(\"log\")\n",
    "plt.show()"
   ]
  },
  {
   "cell_type": "code",
   "execution_count": 70,
   "metadata": {},
   "outputs": [
    {
     "data": {
      "text/html": [
       "    <style>\n",
       "        .bk-notebook-logo {\n",
       "            display: block;\n",
       "            width: 20px;\n",
       "            height: 20px;\n",
       "            background-image: url(data:image/png;base64,iVBORw0KGgoAAAANSUhEUgAAABQAAAAUCAYAAACNiR0NAAAABHNCSVQICAgIfAhkiAAAAAlwSFlzAAALEgAACxIB0t1+/AAAABx0RVh0U29mdHdhcmUAQWRvYmUgRmlyZXdvcmtzIENTNui8sowAAAOkSURBVDiNjZRtaJVlGMd/1/08zzln5zjP1LWcU9N0NkN8m2CYjpgQYQXqSs0I84OLIC0hkEKoPtiH3gmKoiJDU7QpLgoLjLIQCpEsNJ1vqUOdO7ppbuec5+V+rj4ctwzd8IIbbi6u+8f1539dt3A78eXC7QizUF7gyV1fD1Yqg4JWz84yffhm0qkFqBogB9rM8tZdtwVsPUhWhGcFJngGeWrPzHm5oaMmkfEg1usvLFyc8jLRqDOMru7AyC8saQr7GG7f5fvDeH7Ej8CM66nIF+8yngt6HWaKh7k49Soy9nXurCi1o3qUbS3zWfrYeQDTB/Qj6kX6Ybhw4B+bOYoLKCC9H3Nu/leUTZ1JdRWkkn2ldcCamzrcf47KKXdAJllSlxAOkRgyHsGC/zRday5Qld9DyoM4/q/rUoy/CXh3jzOu3bHUVZeU+DEn8FInkPBFlu3+nW3Nw0mk6vCDiWg8CeJaxEwuHS3+z5RgY+YBR6V1Z1nxSOfoaPa4LASWxxdNp+VWTk7+4vzaou8v8PN+xo+KY2xsw6une2frhw05CTYOmQvsEhjhWjn0bmXPjpE1+kplmmkP3suftwTubK9Vq22qKmrBhpY4jvd5afdRA3wGjFAgcnTK2s4hY0/GPNIb0nErGMCRxWOOX64Z8RAC4oCXdklmEvcL8o0BfkNK4lUg9HTl+oPlQxdNo3Mg4Nv175e/1LDGzZen30MEjRUtmXSfiTVu1kK8W4txyV6BMKlbgk3lMwYCiusNy9fVfvvwMxv8Ynl6vxoByANLTWplvuj/nF9m2+PDtt1eiHPBr1oIfhCChQMBw6Aw0UulqTKZdfVvfG7VcfIqLG9bcldL/+pdWTLxLUy8Qq38heUIjh4XlzZxzQm19lLFlr8vdQ97rjZVOLf8nclzckbcD4wxXMidpX30sFd37Fv/GtwwhzhxGVAprjbg0gCAEeIgwCZyTV2Z1REEW8O4py0wsjeloKoMr6iCY6dP92H6Vw/oTyICIthibxjm/DfN9lVz8IqtqKYLUXfoKVMVQVVJOElGjrnnUt9T9wbgp8AyYKaGlqingHZU/uG2NTZSVqwHQTWkx9hxjkpWDaCg6Ckj5qebgBVbT3V3NNXMSiWSDdGV3hrtzla7J+duwPOToIg42ChPQOQjspnSlp1V+Gjdged7+8UN5CRAV7a5EdFNwCjEaBR27b3W890TE7g24NAP/mMDXRWrGoFPQI9ls/MWO2dWFAar/xcOIImbbpA3zgAAAABJRU5ErkJggg==);\n",
       "        }\n",
       "    </style>\n",
       "    <div>\n",
       "        <a href=\"https://bokeh.org\" target=\"_blank\" class=\"bk-notebook-logo\"></a>\n",
       "        <span id=\"e5ec5f68-346c-4d7a-a8c1-8818f2927973\">Loading BokehJS ...</span>\n",
       "    </div>\n"
      ]
     },
     "metadata": {},
     "output_type": "display_data"
    },
    {
     "data": {
      "application/javascript": "'use strict';\n(function(root) {\n  function now() {\n    return new Date();\n  }\n\n  const force = true;\n\n  if (typeof root._bokeh_onload_callbacks === \"undefined\" || force === true) {\n    root._bokeh_onload_callbacks = [];\n    root._bokeh_is_loading = undefined;\n  }\n\nconst JS_MIME_TYPE = 'application/javascript';\n  const HTML_MIME_TYPE = 'text/html';\n  const EXEC_MIME_TYPE = 'application/vnd.bokehjs_exec.v0+json';\n  const CLASS_NAME = 'output_bokeh rendered_html';\n\n  /**\n   * Render data to the DOM node\n   */\n  function render(props, node) {\n    const script = document.createElement(\"script\");\n    node.appendChild(script);\n  }\n\n  /**\n   * Handle when an output is cleared or removed\n   */\n  function handleClearOutput(event, handle) {\n    function drop(id) {\n      const view = Bokeh.index.get_by_id(id)\n      if (view != null) {\n        view.model.document.clear()\n        Bokeh.index.delete(view)\n      }\n    }\n\n    const cell = handle.cell;\n\n    const id = cell.output_area._bokeh_element_id;\n    const server_id = cell.output_area._bokeh_server_id;\n\n    // Clean up Bokeh references\n    if (id != null) {\n      drop(id)\n    }\n\n    if (server_id !== undefined) {\n      // Clean up Bokeh references\n      const cmd_clean = \"from bokeh.io.state import curstate; print(curstate().uuid_to_server['\" + server_id + \"'].get_sessions()[0].document.roots[0]._id)\";\n      cell.notebook.kernel.execute(cmd_clean, {\n        iopub: {\n          output: function(msg) {\n            const id = msg.content.text.trim()\n            drop(id)\n          }\n        }\n      });\n      // Destroy server and session\n      const cmd_destroy = \"import bokeh.io.notebook as ion; ion.destroy_server('\" + server_id + \"')\";\n      cell.notebook.kernel.execute(cmd_destroy);\n    }\n  }\n\n  /**\n   * Handle when a new output is added\n   */\n  function handleAddOutput(event, handle) {\n    const output_area = handle.output_area;\n    const output = handle.output;\n\n    // limit handleAddOutput to display_data with EXEC_MIME_TYPE content only\n    if ((output.output_type != \"display_data\") || (!Object.prototype.hasOwnProperty.call(output.data, EXEC_MIME_TYPE))) {\n      return\n    }\n\n    const toinsert = output_area.element.find(\".\" + CLASS_NAME.split(' ')[0]);\n\n    if (output.metadata[EXEC_MIME_TYPE][\"id\"] !== undefined) {\n      toinsert[toinsert.length - 1].firstChild.textContent = output.data[JS_MIME_TYPE];\n      // store reference to embed id on output_area\n      output_area._bokeh_element_id = output.metadata[EXEC_MIME_TYPE][\"id\"];\n    }\n    if (output.metadata[EXEC_MIME_TYPE][\"server_id\"] !== undefined) {\n      const bk_div = document.createElement(\"div\");\n      bk_div.innerHTML = output.data[HTML_MIME_TYPE];\n      const script_attrs = bk_div.children[0].attributes;\n      for (let i = 0; i < script_attrs.length; i++) {\n        toinsert[toinsert.length - 1].firstChild.setAttribute(script_attrs[i].name, script_attrs[i].value);\n        toinsert[toinsert.length - 1].firstChild.textContent = bk_div.children[0].textContent\n      }\n      // store reference to server id on output_area\n      output_area._bokeh_server_id = output.metadata[EXEC_MIME_TYPE][\"server_id\"];\n    }\n  }\n\n  function register_renderer(events, OutputArea) {\n\n    function append_mime(data, metadata, element) {\n      // create a DOM node to render to\n      const toinsert = this.create_output_subarea(\n        metadata,\n        CLASS_NAME,\n        EXEC_MIME_TYPE\n      );\n      this.keyboard_manager.register_events(toinsert);\n      // Render to node\n      const props = {data: data, metadata: metadata[EXEC_MIME_TYPE]};\n      render(props, toinsert[toinsert.length - 1]);\n      element.append(toinsert);\n      return toinsert\n    }\n\n    /* Handle when an output is cleared or removed */\n    events.on('clear_output.CodeCell', handleClearOutput);\n    events.on('delete.Cell', handleClearOutput);\n\n    /* Handle when a new output is added */\n    events.on('output_added.OutputArea', handleAddOutput);\n\n    /**\n     * Register the mime type and append_mime function with output_area\n     */\n    OutputArea.prototype.register_mime_type(EXEC_MIME_TYPE, append_mime, {\n      /* Is output safe? */\n      safe: true,\n      /* Index of renderer in `output_area.display_order` */\n      index: 0\n    });\n  }\n\n  // register the mime type if in Jupyter Notebook environment and previously unregistered\n  if (root.Jupyter !== undefined) {\n    const events = require('base/js/events');\n    const OutputArea = require('notebook/js/outputarea').OutputArea;\n\n    if (OutputArea.prototype.mime_types().indexOf(EXEC_MIME_TYPE) == -1) {\n      register_renderer(events, OutputArea);\n    }\n  }\n  if (typeof (root._bokeh_timeout) === \"undefined\" || force === true) {\n    root._bokeh_timeout = Date.now() + 5000;\n    root._bokeh_failed_load = false;\n  }\n\n  const NB_LOAD_WARNING = {'data': {'text/html':\n     \"<div style='background-color: #fdd'>\\n\"+\n     \"<p>\\n\"+\n     \"BokehJS does not appear to have successfully loaded. If loading BokehJS from CDN, this \\n\"+\n     \"may be due to a slow or bad network connection. Possible fixes:\\n\"+\n     \"</p>\\n\"+\n     \"<ul>\\n\"+\n     \"<li>re-rerun `output_notebook()` to attempt to load from CDN again, or</li>\\n\"+\n     \"<li>use INLINE resources instead, as so:</li>\\n\"+\n     \"</ul>\\n\"+\n     \"<code>\\n\"+\n     \"from bokeh.resources import INLINE\\n\"+\n     \"output_notebook(resources=INLINE)\\n\"+\n     \"</code>\\n\"+\n     \"</div>\"}};\n\n  function display_loaded(error = null) {\n    const el = document.getElementById(\"e5ec5f68-346c-4d7a-a8c1-8818f2927973\");\n    if (el != null) {\n      const html = (() => {\n        if (typeof root.Bokeh === \"undefined\") {\n          if (error == null) {\n            return \"BokehJS is loading ...\";\n          } else {\n            return \"BokehJS failed to load.\";\n          }\n        } else {\n          const prefix = `BokehJS ${root.Bokeh.version}`;\n          if (error == null) {\n            return `${prefix} successfully loaded.`;\n          } else {\n            return `${prefix} <b>encountered errors</b> while loading and may not function as expected.`;\n          }\n        }\n      })();\n      el.innerHTML = html;\n\n      if (error != null) {\n        const wrapper = document.createElement(\"div\");\n        wrapper.style.overflow = \"auto\";\n        wrapper.style.height = \"5em\";\n        wrapper.style.resize = \"vertical\";\n        const content = document.createElement(\"div\");\n        content.style.fontFamily = \"monospace\";\n        content.style.whiteSpace = \"pre-wrap\";\n        content.style.backgroundColor = \"rgb(255, 221, 221)\";\n        content.textContent = error.stack ?? error.toString();\n        wrapper.append(content);\n        el.append(wrapper);\n      }\n    } else if (Date.now() < root._bokeh_timeout) {\n      setTimeout(() => display_loaded(error), 100);\n    }\n  }\n\n  function run_callbacks() {\n    try {\n      root._bokeh_onload_callbacks.forEach(function(callback) {\n        if (callback != null)\n          callback();\n      });\n    } finally {\n      delete root._bokeh_onload_callbacks\n    }\n    console.debug(\"Bokeh: all callbacks have finished\");\n  }\n\n  function load_libs(css_urls, js_urls, callback) {\n    if (css_urls == null) css_urls = [];\n    if (js_urls == null) js_urls = [];\n\n    root._bokeh_onload_callbacks.push(callback);\n    if (root._bokeh_is_loading > 0) {\n      console.debug(\"Bokeh: BokehJS is being loaded, scheduling callback at\", now());\n      return null;\n    }\n    if (js_urls == null || js_urls.length === 0) {\n      run_callbacks();\n      return null;\n    }\n    console.debug(\"Bokeh: BokehJS not loaded, scheduling load and callback at\", now());\n    root._bokeh_is_loading = css_urls.length + js_urls.length;\n\n    function on_load() {\n      root._bokeh_is_loading--;\n      if (root._bokeh_is_loading === 0) {\n        console.debug(\"Bokeh: all BokehJS libraries/stylesheets loaded\");\n        run_callbacks()\n      }\n    }\n\n    function on_error(url) {\n      console.error(\"failed to load \" + url);\n    }\n\n    for (let i = 0; i < css_urls.length; i++) {\n      const url = css_urls[i];\n      const element = document.createElement(\"link\");\n      element.onload = on_load;\n      element.onerror = on_error.bind(null, url);\n      element.rel = \"stylesheet\";\n      element.type = \"text/css\";\n      element.href = url;\n      console.debug(\"Bokeh: injecting link tag for BokehJS stylesheet: \", url);\n      document.body.appendChild(element);\n    }\n\n    for (let i = 0; i < js_urls.length; i++) {\n      const url = js_urls[i];\n      const element = document.createElement('script');\n      element.onload = on_load;\n      element.onerror = on_error.bind(null, url);\n      element.async = false;\n      element.src = url;\n      console.debug(\"Bokeh: injecting script tag for BokehJS library: \", url);\n      document.head.appendChild(element);\n    }\n  };\n\n  function inject_raw_css(css) {\n    const element = document.createElement(\"style\");\n    element.appendChild(document.createTextNode(css));\n    document.body.appendChild(element);\n  }\n\n  const js_urls = [\"https://cdn.bokeh.org/bokeh/release/bokeh-3.5.0.min.js\", \"https://cdn.bokeh.org/bokeh/release/bokeh-gl-3.5.0.min.js\", \"https://cdn.bokeh.org/bokeh/release/bokeh-widgets-3.5.0.min.js\", \"https://cdn.bokeh.org/bokeh/release/bokeh-tables-3.5.0.min.js\", \"https://cdn.bokeh.org/bokeh/release/bokeh-mathjax-3.5.0.min.js\"];\n  const css_urls = [];\n\n  const inline_js = [    function(Bokeh) {\n      Bokeh.set_log_level(\"info\");\n    },\nfunction(Bokeh) {\n    }\n  ];\n\n  function run_inline_js() {\n    if (root.Bokeh !== undefined || force === true) {\n      try {\n            for (let i = 0; i < inline_js.length; i++) {\n      inline_js[i].call(root, root.Bokeh);\n    }\n\n      } catch (error) {display_loaded(error);throw error;\n      }if (force === true) {\n        display_loaded();\n      }} else if (Date.now() < root._bokeh_timeout) {\n      setTimeout(run_inline_js, 100);\n    } else if (!root._bokeh_failed_load) {\n      console.log(\"Bokeh: BokehJS failed to load within specified timeout.\");\n      root._bokeh_failed_load = true;\n    } else if (force !== true) {\n      const cell = $(document.getElementById(\"e5ec5f68-346c-4d7a-a8c1-8818f2927973\")).parents('.cell').data().cell;\n      cell.output_area.append_execute_result(NB_LOAD_WARNING)\n    }\n  }\n\n  if (root._bokeh_is_loading === 0) {\n    console.debug(\"Bokeh: BokehJS loaded, going straight to plotting\");\n    run_inline_js();\n  } else {\n    load_libs(css_urls, js_urls, function() {\n      console.debug(\"Bokeh: BokehJS plotting callback run at\", now());\n      run_inline_js();\n    });\n  }\n}(window));",
      "application/vnd.bokehjs_load.v0+json": ""
     },
     "metadata": {},
     "output_type": "display_data"
    },
    {
     "data": {
      "text/html": [
       "\n",
       "  <div id=\"a80636ce-c4c8-4e8a-b7e9-684e74a0f8d4\" data-root-id=\"p1045\" style=\"display: contents;\"></div>\n"
      ]
     },
     "metadata": {},
     "output_type": "display_data"
    },
    {
     "data": {
      "application/javascript": "(function(root) {\n  function embed_document(root) {\n  const docs_json = {\"904a03a4-526b-4df9-8a43-7dd8c9bb063d\":{\"version\":\"3.5.0\",\"title\":\"Bokeh Application\",\"roots\":[{\"type\":\"object\",\"name\":\"Figure\",\"id\":\"p1045\",\"attributes\":{\"x_range\":{\"type\":\"object\",\"name\":\"Range1d\",\"id\":\"p1055\",\"attributes\":{\"start\":-1.5,\"end\":1.5}},\"y_range\":{\"type\":\"object\",\"name\":\"Range1d\",\"id\":\"p1056\",\"attributes\":{\"start\":-1.5,\"end\":1.5}},\"x_scale\":{\"type\":\"object\",\"name\":\"LinearScale\",\"id\":\"p1057\"},\"y_scale\":{\"type\":\"object\",\"name\":\"LinearScale\",\"id\":\"p1058\"},\"title\":{\"type\":\"object\",\"name\":\"Title\",\"id\":\"p1048\",\"attributes\":{\"text\":\"Feature Correlation Graph\"}},\"renderers\":[{\"type\":\"object\",\"name\":\"GraphRenderer\",\"id\":\"p1070\",\"attributes\":{\"layout_provider\":{\"type\":\"object\",\"name\":\"StaticLayoutProvider\",\"id\":\"p1087\",\"attributes\":{\"graph_layout\":{\"type\":\"map\",\"entries\":[[\"res_0\",{\"type\":\"ndarray\",\"array\":{\"type\":\"bytes\",\"data\":\"xI7bqTKw0z82srS2R5PdPw==\"},\"shape\":[2],\"dtype\":\"float64\",\"order\":\"little\"}],[\"skip_0\",{\"type\":\"ndarray\",\"array\":{\"type\":\"bytes\",\"data\":\"AAAAAAAA8L+crIl2YAC9vw==\"},\"shape\":[2],\"dtype\":\"float64\",\"order\":\"little\"}],[\"res_1\",{\"type\":\"ndarray\",\"array\":{\"type\":\"bytes\",\"data\":\"TiJUyWgQ2j/EWAumfGjSvw==\"},\"shape\":[2],\"dtype\":\"float64\",\"order\":\"little\"}],[\"skip_1\",{\"type\":\"ndarray\",\"array\":{\"type\":\"bytes\",\"data\":\"XKXF1lqF1j/DXytWZlK5vw==\"},\"shape\":[2],\"dtype\":\"float64\",\"order\":\"little\"}],[\"res_2\",{\"type\":\"ndarray\",\"array\":{\"type\":\"bytes\",\"data\":\"jPhBaRl8sj9TblKfhHazvw==\"},\"shape\":[2],\"dtype\":\"float64\",\"order\":\"little\"}],[\"skip_2\",{\"type\":\"ndarray\",\"array\":{\"type\":\"bytes\",\"data\":\"nQ0M7d3+d7839Ov4Kn+bvw==\"},\"shape\":[2],\"dtype\":\"float64\",\"order\":\"little\"}],[\"res_3\",{\"type\":\"ndarray\",\"array\":{\"type\":\"bytes\",\"data\":\"W65yoDdazT+CaAR5My3LPw==\"},\"shape\":[2],\"dtype\":\"float64\",\"order\":\"little\"}],[\"skip_3\",{\"type\":\"ndarray\",\"array\":{\"type\":\"bytes\",\"data\":\"/93Y3KIc4D9M7G4hZVnQvw==\"},\"shape\":[2],\"dtype\":\"float64\",\"order\":\"little\"}],[\"res_4\",{\"type\":\"ndarray\",\"array\":{\"type\":\"bytes\",\"data\":\"LyTrsqCRtL9lkV4HzaTVvw==\"},\"shape\":[2],\"dtype\":\"float64\",\"order\":\"little\"}],[\"skip_4\",{\"type\":\"ndarray\",\"array\":{\"type\":\"bytes\",\"data\":\"Q/fgRH0j6b/3RhlzibPgPw==\"},\"shape\":[2],\"dtype\":\"float64\",\"order\":\"little\"}]]}}},\"node_renderer\":{\"type\":\"object\",\"name\":\"GlyphRenderer\",\"id\":\"p1075\",\"attributes\":{\"data_source\":{\"type\":\"object\",\"name\":\"ColumnDataSource\",\"id\":\"p1072\",\"attributes\":{\"selected\":{\"type\":\"object\",\"name\":\"Selection\",\"id\":\"p1073\",\"attributes\":{\"indices\":[],\"line_indices\":[]}},\"selection_policy\":{\"type\":\"object\",\"name\":\"UnionRenderers\",\"id\":\"p1074\"},\"data\":{\"type\":\"map\",\"entries\":[[\"name\",[\"Res_0\",\"Skip_0\",\"Res_1\",\"Skip_1\",\"Res_2\",\"Skip_2\",\"Res_3\",\"Skip_3\",\"Res_4\",\"Skip_4\"]],[\"group\",[\"res\",\"skip\",\"res\",\"skip\",\"res\",\"skip\",\"res\",\"skip\",\"res\",\"skip\"]],[\"pos\",[{\"type\":\"ndarray\",\"array\":{\"type\":\"bytes\",\"data\":\"xI7bqTKw0z82srS2R5PdPw==\"},\"shape\":[2],\"dtype\":\"float64\",\"order\":\"little\"},{\"type\":\"ndarray\",\"array\":{\"type\":\"bytes\",\"data\":\"AAAAAAAA8L+crIl2YAC9vw==\"},\"shape\":[2],\"dtype\":\"float64\",\"order\":\"little\"},{\"type\":\"ndarray\",\"array\":{\"type\":\"bytes\",\"data\":\"TiJUyWgQ2j/EWAumfGjSvw==\"},\"shape\":[2],\"dtype\":\"float64\",\"order\":\"little\"},{\"type\":\"ndarray\",\"array\":{\"type\":\"bytes\",\"data\":\"XKXF1lqF1j/DXytWZlK5vw==\"},\"shape\":[2],\"dtype\":\"float64\",\"order\":\"little\"},{\"type\":\"ndarray\",\"array\":{\"type\":\"bytes\",\"data\":\"jPhBaRl8sj9TblKfhHazvw==\"},\"shape\":[2],\"dtype\":\"float64\",\"order\":\"little\"},{\"type\":\"ndarray\",\"array\":{\"type\":\"bytes\",\"data\":\"nQ0M7d3+d7839Ov4Kn+bvw==\"},\"shape\":[2],\"dtype\":\"float64\",\"order\":\"little\"},{\"type\":\"ndarray\",\"array\":{\"type\":\"bytes\",\"data\":\"W65yoDdazT+CaAR5My3LPw==\"},\"shape\":[2],\"dtype\":\"float64\",\"order\":\"little\"},{\"type\":\"ndarray\",\"array\":{\"type\":\"bytes\",\"data\":\"/93Y3KIc4D9M7G4hZVnQvw==\"},\"shape\":[2],\"dtype\":\"float64\",\"order\":\"little\"},{\"type\":\"ndarray\",\"array\":{\"type\":\"bytes\",\"data\":\"LyTrsqCRtL9lkV4HzaTVvw==\"},\"shape\":[2],\"dtype\":\"float64\",\"order\":\"little\"},{\"type\":\"ndarray\",\"array\":{\"type\":\"bytes\",\"data\":\"Q/fgRH0j6b/3RhlzibPgPw==\"},\"shape\":[2],\"dtype\":\"float64\",\"order\":\"little\"}]],[\"color\",[\"blue\",\"red\",\"blue\",\"red\",\"blue\",\"red\",\"blue\",\"red\",\"blue\",\"red\"]],[\"index\",[\"res_0\",\"skip_0\",\"res_1\",\"skip_1\",\"res_2\",\"skip_2\",\"res_3\",\"skip_3\",\"res_4\",\"skip_4\"]]]}}},\"view\":{\"type\":\"object\",\"name\":\"CDSView\",\"id\":\"p1076\",\"attributes\":{\"filter\":{\"type\":\"object\",\"name\":\"AllIndices\",\"id\":\"p1077\"}}},\"glyph\":{\"type\":\"object\",\"name\":\"Circle\",\"id\":\"p1088\",\"attributes\":{\"radius\":{\"type\":\"value\",\"value\":0.05},\"fill_color\":{\"type\":\"field\",\"field\":\"color\"}}},\"selection_glyph\":{\"type\":\"object\",\"name\":\"Circle\",\"id\":\"p1090\",\"attributes\":{\"radius\":{\"type\":\"value\",\"value\":0.05},\"line_width\":{\"type\":\"value\",\"value\":2},\"fill_color\":{\"type\":\"field\",\"field\":\"color\"}}},\"hover_glyph\":{\"type\":\"object\",\"name\":\"Circle\",\"id\":\"p1089\",\"attributes\":{\"radius\":{\"type\":\"value\",\"value\":0.05},\"line_width\":{\"type\":\"value\",\"value\":2},\"fill_color\":{\"type\":\"field\",\"field\":\"color\"}}}}},\"edge_renderer\":{\"type\":\"object\",\"name\":\"GlyphRenderer\",\"id\":\"p1082\",\"attributes\":{\"data_source\":{\"type\":\"object\",\"name\":\"ColumnDataSource\",\"id\":\"p1079\",\"attributes\":{\"selected\":{\"type\":\"object\",\"name\":\"Selection\",\"id\":\"p1080\",\"attributes\":{\"indices\":[],\"line_indices\":[]}},\"selection_policy\":{\"type\":\"object\",\"name\":\"UnionRenderers\",\"id\":\"p1081\"},\"data\":{\"type\":\"map\",\"entries\":[[\"color\",[\"blue\",\"blue\",\"blue\",\"blue\",\"green\",\"green\",\"green\",\"green\",\"green\",\"red\",\"red\",\"red\",\"red\",\"green\",\"green\",\"green\",\"green\",\"blue\",\"blue\",\"blue\",\"green\",\"green\",\"green\",\"green\",\"red\",\"red\",\"red\",\"green\",\"green\",\"green\",\"blue\",\"blue\",\"green\",\"green\",\"green\",\"red\",\"red\",\"green\",\"green\",\"blue\",\"green\",\"green\",\"red\",\"green\",\"green\"]],[\"weight\",[0.4428945481777191,1.4286755323410034,0.11911680549383163,0.6066513061523438,-2.4454641342163086,0.2577727735042572,-0.14834891259670258,-0.8269138336181641,0.7660109996795654,-0.716663658618927,0.276289165019989,-1.7646878957748413,-0.16251687705516815,-1.8736839294433594,0.8697481751441956,-0.5532580018043518,1.7561050653457642,1.2920340299606323,-0.35907211899757385,0.12163940072059631,2.4079787731170654,1.1473411321640015,-0.6521248817443848,-0.7297049760818481,1.065001130104065,2.8641977310180664,0.3252582550048828,1.2195789813995361,-0.5650814175605774,1.5729464292526245,1.3294373750686646,0.6124974489212036,0.33640697598457336,-0.48281681537628174,-0.6622201204299927,0.5348900556564331,0.3679331839084625,0.7164796590805054,-0.5338435769081116,-0.09083915501832962,2.220874071121216,0.9597731828689575,-2.5659592151641846,0.48539164662361145,-1.0180675983428955]],[\"start\",[\"res_0\",\"res_0\",\"res_0\",\"res_0\",\"res_0\",\"res_0\",\"res_0\",\"res_0\",\"res_0\",\"skip_0\",\"skip_0\",\"skip_0\",\"skip_0\",\"skip_0\",\"skip_0\",\"skip_0\",\"skip_0\",\"res_1\",\"res_1\",\"res_1\",\"res_1\",\"res_1\",\"res_1\",\"res_1\",\"skip_1\",\"skip_1\",\"skip_1\",\"skip_1\",\"skip_1\",\"skip_1\",\"res_2\",\"res_2\",\"res_2\",\"res_2\",\"res_2\",\"skip_2\",\"skip_2\",\"skip_2\",\"skip_2\",\"res_3\",\"res_3\",\"res_3\",\"skip_3\",\"skip_3\",\"res_4\"]],[\"end\",[\"res_1\",\"res_2\",\"res_3\",\"res_4\",\"skip_0\",\"skip_1\",\"skip_2\",\"skip_3\",\"skip_4\",\"skip_1\",\"skip_2\",\"skip_3\",\"skip_4\",\"res_1\",\"res_2\",\"res_3\",\"res_4\",\"res_2\",\"res_3\",\"res_4\",\"skip_1\",\"skip_2\",\"skip_3\",\"skip_4\",\"skip_2\",\"skip_3\",\"skip_4\",\"res_2\",\"res_3\",\"res_4\",\"res_3\",\"res_4\",\"skip_2\",\"skip_3\",\"skip_4\",\"skip_3\",\"skip_4\",\"res_3\",\"res_4\",\"res_4\",\"skip_3\",\"skip_4\",\"skip_4\",\"res_4\",\"skip_4\"]]]}}},\"view\":{\"type\":\"object\",\"name\":\"CDSView\",\"id\":\"p1083\",\"attributes\":{\"filter\":{\"type\":\"object\",\"name\":\"AllIndices\",\"id\":\"p1084\"}}},\"glyph\":{\"type\":\"object\",\"name\":\"MultiLine\",\"id\":\"p1091\",\"attributes\":{\"line_color\":{\"type\":\"field\",\"field\":\"color\"},\"line_alpha\":{\"type\":\"value\",\"value\":0.8},\"line_width\":{\"type\":\"field\",\"field\":\"weight\"}}},\"selection_glyph\":{\"type\":\"object\",\"name\":\"MultiLine\",\"id\":\"p1093\",\"attributes\":{\"line_color\":{\"type\":\"field\",\"field\":\"color\"},\"line_width\":{\"type\":\"value\",\"value\":5}}},\"hover_glyph\":{\"type\":\"object\",\"name\":\"MultiLine\",\"id\":\"p1092\",\"attributes\":{\"line_color\":{\"type\":\"field\",\"field\":\"color\"},\"line_width\":{\"type\":\"value\",\"value\":5}}}}},\"selection_policy\":{\"type\":\"object\",\"name\":\"NodesOnly\",\"id\":\"p1085\"},\"inspection_policy\":{\"type\":\"object\",\"name\":\"NodesOnly\",\"id\":\"p1086\"}}}],\"toolbar\":{\"type\":\"object\",\"name\":\"Toolbar\",\"id\":\"p1054\",\"attributes\":{\"tools\":[{\"type\":\"object\",\"name\":\"HoverTool\",\"id\":\"p1069\",\"attributes\":{\"renderers\":\"auto\",\"tooltips\":[[\"Name\",\"@name\"],[\"Group\",\"@group\"],[\"Weight\",\"@weight\"]]}}]}},\"toolbar_location\":null,\"left\":[{\"type\":\"object\",\"name\":\"LinearAxis\",\"id\":\"p1064\",\"attributes\":{\"ticker\":{\"type\":\"object\",\"name\":\"BasicTicker\",\"id\":\"p1065\",\"attributes\":{\"mantissas\":[1,2,5]}},\"formatter\":{\"type\":\"object\",\"name\":\"BasicTickFormatter\",\"id\":\"p1066\"},\"major_label_policy\":{\"type\":\"object\",\"name\":\"AllLabels\",\"id\":\"p1067\"}}}],\"below\":[{\"type\":\"object\",\"name\":\"LinearAxis\",\"id\":\"p1059\",\"attributes\":{\"ticker\":{\"type\":\"object\",\"name\":\"BasicTicker\",\"id\":\"p1060\",\"attributes\":{\"mantissas\":[1,2,5]}},\"formatter\":{\"type\":\"object\",\"name\":\"BasicTickFormatter\",\"id\":\"p1061\"},\"major_label_policy\":{\"type\":\"object\",\"name\":\"AllLabels\",\"id\":\"p1062\"}}}],\"center\":[{\"type\":\"object\",\"name\":\"Grid\",\"id\":\"p1063\",\"attributes\":{\"axis\":{\"id\":\"p1059\"}}},{\"type\":\"object\",\"name\":\"Grid\",\"id\":\"p1068\",\"attributes\":{\"dimension\":1,\"axis\":{\"id\":\"p1064\"}}}]}}]}};\n  const render_items = [{\"docid\":\"904a03a4-526b-4df9-8a43-7dd8c9bb063d\",\"roots\":{\"p1045\":\"a80636ce-c4c8-4e8a-b7e9-684e74a0f8d4\"},\"root_ids\":[\"p1045\"]}];\n  void root.Bokeh.embed.embed_items_notebook(docs_json, render_items);\n  }\n  if (root.Bokeh !== undefined) {\n    embed_document(root);\n  } else {\n    let attempts = 0;\n    const timer = setInterval(function(root) {\n      if (root.Bokeh !== undefined) {\n        clearInterval(timer);\n        embed_document(root);\n      } else {\n        attempts++;\n        if (attempts > 100) {\n          clearInterval(timer);\n          console.log(\"Bokeh: ERROR: Unable to run BokehJS code because BokehJS library is missing\");\n        }\n      }\n    }, 10, root)\n  }\n})(window);",
      "application/vnd.bokehjs_exec.v0+json": ""
     },
     "metadata": {
      "application/vnd.bokehjs_exec.v0+json": {
       "id": "p1045"
      }
     },
     "output_type": "display_data"
    }
   ],
   "source": [
    "import networkx as nx\n",
    "import torch\n",
    "from bokeh.io import show, output_notebook\n",
    "from bokeh.models import HoverTool, ColumnDataSource, Circle, MultiLine\n",
    "from bokeh.plotting import figure\n",
    "from bokeh.plotting import from_networkx\n",
    "\n",
    "output_notebook()\n",
    "\n",
    "# Define your matrices (example data)\n",
    "num_features = 5  # Example number of features\n",
    "within_res_correlation = torch.randn(num_features, num_features)\n",
    "res_skip_correlation = torch.randn(num_features, num_features)\n",
    "within_skip_correlation = torch.randn(num_features, num_features)\n",
    "\n",
    "# Create graph\n",
    "G = nx.Graph()\n",
    "\n",
    "# Add nodes with hover info\n",
    "for i in range(num_features):\n",
    "    G.add_node(f'res_{i}', group='res', color='blue', name=f'Res_{i}')\n",
    "    G.add_node(f'skip_{i}', group='skip', color='red', name=f'Skip_{i}')\n",
    "\n",
    "# Add edges within res group\n",
    "for i in range(num_features):\n",
    "    for j in range(num_features):\n",
    "        if i != j:\n",
    "            G.add_edge(f'res_{i}', f'res_{j}', weight=within_res_correlation[i, j].item(), color='blue')\n",
    "\n",
    "# Add edges within skip group\n",
    "for i in range(num_features):\n",
    "    for j in range(num_features):\n",
    "        if i != j:\n",
    "            G.add_edge(f'skip_{i}', f'skip_{j}', weight=within_skip_correlation[i, j].item(), color='red')\n",
    "\n",
    "# Add edges between res and skip groups\n",
    "for i in range(num_features):\n",
    "    for j in range(num_features):\n",
    "        G.add_edge(f'res_{i}', f'skip_{j}', weight=res_skip_correlation[i, j].item(), color='green')\n",
    "\n",
    "# Create plot\n",
    "plot = figure(title=\"Feature Correlation Graph\", x_range=(-1.5, 1.5), y_range=(-1.5, 1.5),\n",
    "              tools=\"\", toolbar_location=None)\n",
    "\n",
    "# Add hover tool\n",
    "hover = HoverTool(tooltips=[(\"Name\", \"@name\"), (\"Group\", \"@group\"), (\"Weight\", \"@weight\")])\n",
    "plot.add_tools(hover)\n",
    "\n",
    "# Create network graph layout\n",
    "pos = nx.spring_layout(G)\n",
    "nx.set_node_attributes(G, pos, 'pos')\n",
    "network_graph = from_networkx(G, pos, scale=2, center=(0, 0))\n",
    "\n",
    "# Customize node appearance\n",
    "network_graph.node_renderer.glyph = Circle(radius=0.05, fill_color='color')\n",
    "network_graph.node_renderer.hover_glyph = Circle(radius=0.05, fill_color='color', line_width=2)\n",
    "network_graph.node_renderer.selection_glyph = Circle(radius=0.05, fill_color='color', line_width=2)\n",
    "\n",
    "# Customize edge appearance\n",
    "network_graph.edge_renderer.glyph = MultiLine(line_color='color', line_alpha=0.8, line_width='weight')\n",
    "network_graph.edge_renderer.hover_glyph = MultiLine(line_color='color', line_width=5)\n",
    "network_graph.edge_renderer.selection_glyph = MultiLine(line_color='color', line_width=5)\n",
    "\n",
    "# Add network graph to plot\n",
    "plot.renderers.append(network_graph)\n",
    "\n",
    "# Show plot\n",
    "show(plot)\n"
   ]
  },
  {
   "cell_type": "code",
   "execution_count": 60,
   "metadata": {},
   "outputs": [
    {
     "data": {
      "image/png": "[encoded data removed]",
      "text/plain": [
       "<Figure size 640x480 with 1 Axes>"
      ]
     },
     "metadata": {},
     "output_type": "display_data"
    }
   ],
   "source": [
    "# Get combined weights\n",
    "comb_weight = linear_layers.get_weights()\n",
    "l1 = sae_res.decoder.weight.data\n",
    "l2 = skip_sae.encoder.weight.data\n",
    "cos_sim = (l1 / l1.norm(dim=0, keepdim=True)).T @ (l2 / l2.norm(dim=1, keepdim=True)).T\n",
    "plt.hist(cos_sim.detach().max(0).values.flatten().cpu().numpy(), bins=100)\n",
    "plt.xlabel(\"Cosine Similarity\")\n",
    "plt.ylabel(\"Count\")\n",
    "plt.yscale(\"log\")\n",
    "plt.show()"
   ]
  },
  {
   "cell_type": "code",
   "execution_count": 40,
   "metadata": {},
   "outputs": [
    {
     "data": {
      "image/png": "[encoded data removed]",
      "text/plain": [
       "<Figure size 640x480 with 1 Axes>"
      ]
     },
     "metadata": {},
     "output_type": "display_data"
    }
   ],
   "source": [
    "# Get combined weights\n",
    "comb_weight = linear_layers.get_weights()\n",
    "# l1 = linear_layers.linear_first.weight\n",
    "# l2 = linear_layers.linear_second.weight\n",
    "# cos_sim = (l1 / l1.norm(dim=0, keepdim=True)).T @ (l2 / l2.norm(dim=1, keepdim=True)).T\n",
    "plt.hist(comb_weight.detach().flatten().cpu().numpy(), bins=100)\n",
    "plt.xlabel(\"Cosine Similarity\")\n",
    "plt.ylabel(\"Count\")\n",
    "plt.yscale(\"log\")\n",
    "plt.show()"
   ]
  },
  {
   "cell_type": "code",
   "execution_count": 52,
   "metadata": {},
   "outputs": [
    {
     "data": {
      "text/plain": [
       "(tensor(0.7484, device='cuda:0', grad_fn=<MeanBackward0>),\n",
       " tensor(0.0586, device='cuda:0', grad_fn=<MeanBackward0>),\n",
       " tensor(1., device='cuda:0'),\n",
       " tensor(1.3561, device='cuda:0'),\n",
       " tensor(0.7563, device='cuda:0'),\n",
       " tensor(1., device='cuda:0'))"
      ]
     },
     "execution_count": 52,
     "metadata": {},
     "output_type": "execute_result"
    }
   ],
   "source": [
    "l1.norm(dim=0).mean(), l2.norm(dim=1).mean(), sae_res.decoder.weight.data.norm(dim=0).mean(),  sae_res.encoder.weight.data.norm(dim=1).mean(), skip_sae.encoder.weight.data.norm(dim=1).mean(), skip_sae.decoder.weight.data.norm(dim=0).mean()"
   ]
  },
  {
   "cell_type": "code",
   "execution_count": null,
   "metadata": {},
   "outputs": [],
   "source": [
    "#set torch grad to zero globally\n",
    "torch.set_grad_enabled(False)\n",
    "from torch.utils.data import DataLoader\n",
    "from einops import rearrange\n",
    "from tqdm import tqdm\n",
    "from baukit import TraceDict\n",
    "\n",
    "batch_size = 64\n",
    "# def get_dictionary_activations(model, dataset, cache_name, max_seq_length, autoencoder, batch_size=32):\n",
    "num_features, d_model  = sae_res.encoder.weight.data.shape\n",
    "datapoints = dataset.num_rows\n",
    "dictionary_activations_res = torch.zeros((datapoints*max_seq_length, num_features))\n",
    "dictionary_activations_skip = torch.zeros((datapoints*max_seq_length, num_features))\n",
    "all_dictionary_activations = [dictionary_activations_res, dictionary_activations_skip]\n",
    "token_list = torch.zeros((datapoints*max_seq_length), dtype=torch.int64)\n",
    "\n",
    "\n",
    "residual_and_skip_correlation = torch.zeros((num_features, num_features), dtype=torch.int32)\n",
    "residual_correlation = torch.zeros((num_features, num_features), dtype=torch.int32)\n",
    "skip_correlation = torch.zeros((num_features, num_features), dtype=torch.int32)\n",
    "\n",
    "feature_mse = torch.zeros(datapoints*max_seq_length)\n",
    "feature_var_explained = torch.zeros(datapoints*max_seq_length)\n",
    "with torch.no_grad(), dataset.formatted_as(\"pt\"):\n",
    "    dl = DataLoader(dataset[\"input_ids\"], batch_size=batch_size)\n",
    "    for batch_ind, batch in enumerate(tqdm(dl)):\n",
    "        batch = batch.to(model.device)\n",
    "        token_list[batch_ind*batch_size*max_seq_length:(batch_ind+1)*batch_size*max_seq_length] = rearrange(batch, \"b s -> (b s)\")\n",
    "\n",
    "        # Grab intermediate activations\n",
    "        with TraceDict(model, activation_names) as ret:\n",
    "            _ = model(batch).logits\n",
    "        for sae_ind, sae in enumerate([sae_res, skip_sae]):\n",
    "            activations = ret[activation_names[sae_ind]].output\n",
    "            # check if instance tuple\n",
    "            if(isinstance(activations, tuple)):\n",
    "                activations = activations[0]\n",
    "                \n",
    "            activations = rearrange(activations, \"b s n -> (b s) n\" )\n",
    "\n",
    "            feature_acts = sae.encode(activations)\n",
    "            all_dictionary_activations[sae_ind][batch_ind*batch_size*max_seq_length:(batch_ind+1)*batch_size*max_seq_length] = feature_acts.cpu()\n",
    "            if sae_ind==0:\n",
    "                reconstruction_residual = sae.decode(feature_acts)\n",
    "                first_feature_mask = (feature_acts !=0).float()\n",
    "                residual_correlation += torch.mm(first_feature_mask.T, first_feature_mask).int().cpu()\n",
    "            else:\n",
    "                second_feature_mask = (feature_acts !=0).float()\n",
    "                skip_correlation += torch.mm(second_feature_mask.T, second_feature_mask).int().cpu()\n",
    "\n",
    "                # Calculate the correlation between the residual and skip activations\n",
    "                residual_and_skip_correlation += torch.mm(first_feature_mask.T, second_feature_mask).int().cpu()\n",
    "\n",
    "\n",
    "                # Check the MSE between the skip features & skip-features-w/-residual\n",
    "                skip_feature_x_hat = skip_sae.encode(reconstruction_residual)\n",
    "                skip_feature_mse = torch.mean((skip_feature_x_hat - feature_acts)**2, dim=-1)\n",
    "                feature_act_var = torch.var(feature_acts)\n",
    "                skip_feature_var_explained = 1 - skip_feature_mse / feature_act_var\n",
    "                feature_mse[batch_ind*batch_size*max_seq_length:(batch_ind+1)*batch_size*max_seq_length] = skip_feature_mse.cpu()\n",
    "                feature_var_explained[batch_ind*batch_size*max_seq_length:(batch_ind+1)*batch_size*max_seq_length] = skip_feature_var_explained.cpu()"
   ]
  }
 ],
 "metadata": {
  "kernelspec": {
   "display_name": "groups",
   "language": "python",
   "name": "python3"
  },
  "language_info": {
   "codemirror_mode": {
    "name": "ipython",
    "version": 3
   },
   "file_extension": ".py",
   "mimetype": "text/x-python",
   "name": "python",
   "nbconvert_exporter": "python",
   "pygments_lexer": "ipython3",
   "version": "3.10.13"
  }
 },
 "nbformat": 4,
 "nbformat_minor": 2
}
